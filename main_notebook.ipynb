{
 "cells": [
  {
   "cell_type": "markdown",
   "metadata": {},
   "source": [
    "# GPT 4o testing"
   ]
  },
  {
   "cell_type": "code",
   "execution_count": 4,
   "metadata": {},
   "outputs": [],
   "source": [
    "from utils import init_llm_langsmith\n",
    "\n",
    "llm_model = init_llm_langsmith(llm_key=40, temp=0.5, langsmith_name=\"AzureTestgpt4o\")\n",
    "\n",
    "messages = [\n",
    "    (\n",
    "        \"system\",\n",
    "        \"You are a helpful assistant that translates English to French. Translate the user sentence.\",\n",
    "    ),\n",
    "    (\"human\", \"I believe the end of the world is an illusion.\"),\n",
    "]\n",
    "ai_msg = llm_model.invoke(messages)\n",
    "ai_msg"
   ]
  },
  {
   "cell_type": "markdown",
   "metadata": {},
   "source": [
    "# Main script LLM"
   ]
  },
  {
   "cell_type": "code",
   "execution_count": 12,
   "metadata": {},
   "outputs": [
    {
     "data": {
      "text/plain": [
       "PromptTemplate(input_variables=['chat_history', 'input'], partial_variables={'system_message': '# Introduction to Event Modeling\\n\\nEvent Modeling is a methodology for designing information systems based on the flow of data, particularly through events that record state changes. \\nIt provides a visual representation of how data flows through a system, helping stakeholders understand the system\\'s behaviour over time. \\nThe key concept in Event Modeling is the vertical slice, which represents a single, cohesive unit of functionality from the user interface down to the underlying events and views. \\n\\n## Building blocks\\n- Trigger (UI/API): Every use case involves a Trigger, typically being a UI or API, that sends a Command to a Service. Each trigger is initiated by a Role\\n- Role: A role is the personification of the user or technical component role, that through a Trigger interacts with the services by either sending commands or querying views.\\n- Service: Each Command, Event and View is owned by a Service, with is the technical authority for the specific bounded context or business capability\\n- Command: \\n  - Captures the intent of a Role. \\n  - Commands have an imperative name, such as AddRoom, ShipOrder, BookRoom, etc. \\n  - A Command usually has an identity property, such as RoomId, OrderId, etc., which clearly identifies what business entity being affected by the Command.\\n  - A Command will usually also contain additional properties, that describe the content of the changes, such as dates, addresses, names, etc.\\n- Event: \\n  - An Event captures the side effect of Service handling a Command. \\n  - Events are always named in the past tense, such as RoomAdded, OrderShipped, RoomBooked, etc. and always contain the same identity id as the command as well as any additional properties\\n- View: \\n  - A view is a Trigger specific projection of Events\\n  - A View can also function as a Todo List or Queue, where Events trigger an Automated process within a Processor\\n- Processor: Automated code that uses a View, as a Todo List or Queue, to gather information required for patterns such as \"Automation\" and \"Translation\" \\n\\n\\n## Core Vertical Slicing Patterns\\n\\nEach vertical slice in an Event Model follows one of the following patterns:\\n\\n1. Command: Trigger -> Command -> Event\\n2. View: Event -> View -> Trigger\\n3. Process patterns, defined as two concepts that are implemented similarly\\n  - Automation: Event -> View -> Processor -> Command -> Event\\n  - Translation: External Event -> View -> Processor -> Command -> Event\\n\\nEach pattern will be described in detail after the General YAML structure description\\n\\n\\n## General YAML document description\\nThe goal is to capture the users description of the event modelled process in the form of a YAML document.\\nBelow is the description of the YAML document that captures a full business process and all the slices it contains\\n\\n```yaml\\nroles:\\n  - &gps GPS\\n  - &manager Manager\\n  - &guest Guest\\n\\nservices:\\n  - &inventory Inventory\\n  - &auth Auth\\n  - &payment Payment\\n\\npatterns:\\n  - &command Command\\n  - &view View\\n  - &automation Automation\\n  - &translation Translation\\n\\nprocess:\\n  id: hotel_notification_system\\n  name: \"Hotel Room Booking System\"\\n  types:\\n    enums:\\n      - RoomType:\\n        - \"King\"\\n        - \"Queen\"\\n        - \"Single\"\\n      - CustomerType:\\n        - VIP\\n        - Gold\\n        - Silver\\n        - Normal\\n    data_objects:\\n      - Address:\\n        - \"street: String\"\\n        - \"zipCode: String\"\\n        - \"city: String\"\\n        - \"country: String\"\\n      - Name:\\n        - \"firstName: String\"\\n        - \"lastName: String\"\\n  slices:\\n    - id: register\\n      description: Guest registers at hotel\\n      pattern: *command\\n      trigger:\\n        id: register_trigger\\n        name: Register\\n        role: *guest\\n        identity_property: \"guestID:GuestID\"\\n        additional_properties:\\n          - \"name: Name\"\\n          - \"address: Address\"\\n      command:\\n        id: register_command\\n        name: Register\\n        identity_property: \"guestID:GuestID\"\\n        additional_properties:\\n          - \"name: Name\"\\n          - \"address: Address\"\\n      event:\\n        id: registered_event\\n        name: Registered\\n        service: *auth\\n        identity_property: \"guestID:GuestID\"\\n        additional_properties:\\n          - \"name: Name\"\\n          - \"address: Address\"\\n    - id: add_room\\n      description: Manager adds room the list of available rooms\\n      pattern: *command\\n      trigger:\\n        id: add_room_trigger\\n        name: \"Add\\\\nRoom\"\\n        role: *manager\\n        identity_property: \"roomID:RoomID\"\\n        additional_properties:\\n          - \"roomNumber: Long\"\\n      command:\\n        id: add_room_command\\n        name: \"Add\\\\nRoom\"\\n        identity_property: \"roomID:RoomID\"\\n        additional_properties:\\n          - \"roomNumber: Long\"\\n      event:\\n        id: room_added_event\\n        name: \"Room\\\\nAdded\"\\n        service: *inventory\\n        identity_property: \"roomID:RoomID\"\\n        additional_properties:\\n          - \"roomNumber: Long\"\\n    - id: room_availability\\n      pattern: *view\\n      event:\\n        id: room_added_event\\n        name: \"Room\\\\nAdded\"\\n        service: *inventory\\n        identity_property: \"roomID:RoomID\"\\n      view:\\n        id: room_availability_view\\n        name: \"Room\\\\nAvailability\"\\n        identity_property: \"roomID:RoomID\"\\n      trigger:\\n        id: book_room_trigger\\n        name: \"Book\\\\nRoom\"\\n        role: *guest\\n        identity_property: \"guestID:GuestID\"\\n        additional_properties:\\n          - \"roomID:RoomID\"\\n    - id: book_room\\n      description: Guest books an available room\\n      pattern: *command\\n      trigger:\\n        id: book_room_trigger\\n        name: \"Book\\\\nRoom\"\\n        role: *guest\\n        identity_property: \"guestID:GuestID\"\\n        additional_properties:\\n          - \"roomID:RoomID\"\\n      command:\\n        id: book_room_command\\n        name: \"Book\\\\nRoom\"\\n        identity_property: \"guestID:GuestID\"\\n        additional_properties:\\n          - \"roomID:RoomID\"\\n      event:\\n        id: room_booked_event\\n        name: \"Room\\\\nBooked\"\\n        service: *inventory\\n        identity_property: \"guestID:GuestID\"\\n        additional_properties:\\n          - \"roomID:RoomID\"\\n    - id: cleaning_schedule\\n      description: The booked room is added to the cleaning schedule\\n      pattern: *view\\n      event:\\n        id: room_booked_event\\n        name: \"Room\\\\nBooked\"\\n        service: *inventory\\n        identity_property: \"guestID:GuestID\"\\n        additional_properties:\\n          - \"roomID:RoomID\"\\n      view:\\n        id: cleaning_schedule_view\\n        name: \"Cleaning\\\\nSchedule\"\\n        identity_property: \"roomID:RoomID\"\\n      trigger:\\n        id: cleaning_schedule_trigger\\n        name: \"Cleaning\\\\nSchedule\"\\n        role: *manager\\n        identity_property: \"roomID:RoomID\"\\n    - id: ready_room\\n      description: Manager orders the room to be readied\\n      pattern: *command\\n      trigger:\\n        id: cleaning_schedule_trigger\\n        name: \"Cleaning\\\\nSchedule\"\\n        role: *manager\\n        identity_property: \"roomID:RoomID\"\\n      command:\\n        id: ready_room_command\\n        name: \"Ready\\\\nRoom\"\\n        identity_property: \"roomID:RoomID\"\\n      event:\\n        id: room_readied_event\\n        name: \"Room\\\\nReadied\"\\n        service: *inventory\\n        identity_property: \"roomID:RoomID\"\\n    - id: check_in\\n      description: Guest checks in to the hotel\\n      pattern: *command\\n      trigger:\\n        id: check_in_trigger\\n        name: \"Check\\\\nIn\"\\n        role: *guest\\n        identity_property: \"guestID:GuestID\"\\n      command:\\n        id: check_in_command\\n        name: \"Check\\\\nIn\"\\n        identity_property: \"guestID:GuestID\"\\n      event:\\n        id: checked_in_event\\n        name: \"Checked\\\\nIn\"\\n        service: *inventory\\n        identity_property: \"guestID:GuestID\"\\n    - id: hotel_proximity\\n      description: GPS API notifies when the guest leaves \\n      pattern: *command\\n      trigger:\\n        id: hotel_proximity_trigger\\n        name: \"Hotel\\\\nProximity\"\\n        role: *gps\\n        identity_property: \"guestID:GuestID\"\\n      command:\\n        id: hotel_proximity_command\\n        name: \"Hotel\\\\nProximity\"\\n        identity_property: \"guestID:GuestID\"\\n      event:\\n        id: guest_left_event\\n        name: \"Guest Left\\\\nHotel\"\\n        service: *inventory\\n        identity_property: \"guestID:GuestID\"\\n    - id: checkout\\n      description: Leaving the hotel triggers a checkout process\\n      pattern: *translation\\n      events: \\n        - id: guest_left_event\\n          name: \"Guest Left\\\\nHotel\"\\n          service: *inventory\\n          identity_property: \"guestID:GuestID\"\\n        - id: checked_out_event\\n          name: \"Checked\\\\nOut\" \\n          service: *inventory\\n          identity_property: \"guestID:GuestID\"\\n      view:\\n        id: guest_roster_view\\n        name: \"Guest\\\\nRoster\"\\n        identity_property: \"guestID:GuestID\"\\n      processor:\\n        id: checkout_processor\\n        name: \"Checkout\\\\nProcessor\"\\n        role: *translation\\n        identity_property: \"guestID:GuestID\"\\n      command:\\n        id: checkout_command\\n        name: \"Check\\\\nOut\"\\n        identity_property: \"guestID:GuestID\"\\n    - id: pay\\n      description: Guest requests to pay\\n      pattern: *command\\n      trigger:\\n        id: pay_trigger\\n        name: Pay\\n        role: *guest\\n        identity_property: \"guestID:GuestID\"\\n        additional_properties:\\n          - \"roomID:RoomID\"\\n      command: \\n        id: pay_command\\n        name: Pay\\n        identity_property: \"guestID:GuestID\"\\n        additional_properties:\\n          - \"roomID:RoomID\"\\n      event:\\n        id: payment_requested_event\\n        name: \"Payment\\\\nRequested\"\\n        service: *payment\\n        identity_property: \"guestID:GuestID\"\\n        additional_properties:\\n          - \"roomID:RoomID\"\\n    - id: payment\\n      description: A payment process handles the transaction\\n      pattern: *automation\\n      events: \\n        - id: payment_requested_event\\n          name: \"Payment\\\\nRequested\"\\n          service: *payment\\n          identity_property: \"guestID:GuestID\"\\n          additional_properties:\\n            - \"roomID:RoomID\"\\n        - id: payment_succeeded_event\\n          name: \"Payment\\\\nSucceeded\"\\n          service: *payment\\n          identity_property: \"guestID:GuestID\"\\n          additional_properties:\\n            - \"roomID:RoomID\"\\n      view:\\n        id: paymetns_to_process_view\\n        name: \"Payments\\\\nto Process\"\\n        identity_property: \"guestID:GuestID\"\\n        additional_properties:\\n          - \"roomID:RoomID\"\\n      processor:\\n        id: payment_processor\\n        name: \"Payment\\\\nProcessor\"\\n        role: *automation\\n        identity_property: \"guestID:GuestID\"\\n        additional_properties:\\n          - \"roomID:RoomID\"\\n      command:\\n        id: process_payment_command\\n        name: \"Process\\\\nPayment\"\\n        identity_property: \"guestID:GuestID\"\\n        additional_properties:\\n          - \"roomID:RoomID\"\\n    - id: sales_report\\n      description: Succesful payments are shown in the sales report\\n      pattern: *view\\n      event:\\n        id: payment_succeeded_event\\n        name: \"Payment\\\\nSucceeded\"\\n        service: *payment\\n        identity_property: \"roomID:RoomID\"\\n      view:\\n        id: sales_report_view\\n        name: \"Sales\\\\nReport\"\\n        identity_property: \"roomID:RoomID\"\\n      trigger:\\n        id: sales_report_trigger\\n        name: \"Sales\\\\nReport\"\\n        role: *manager\\n        identity_property: \"roomID:RoomID\"\\n```\\n\\n### References within the YAML document\\n\\nThe YAML document uses the following reference principles for concepts such as `roles`, `services`  and `patterns`:\\n```yaml\\npatterns:\\n  - &command Command\\n  - &view View\\n  - &automation Automation\\n  - &translation Translation\\n```\\n\\nE.g. `&command`, which allows other parts of the YAML to reference these concepts using pointer reference such as `pattern: *command` which when visualised uses the value \"Command\"\\n\\n### Types within the definition\\nThe YAML definition also contains a `types` section which defines enum types as well as data_objects, which are typically comprised of multiple properties\\n\\n\\n## Detailed Pattern descriptions and Examples\\n\\n\\n## 1. Pattern \"Command\": Trigger -> Command -> Event\\n\\n**Description:**\\nThis slice captures the interaction where a user (or another system) performs an action via a Trigger, such as a UI or API, which triggers a command. \\nThe command includes an identity-carrying property and additional properties with names and types. \\nThe event records these properties. If the event does not explicitly define properties, it inherits all properties from the command.\\n\\n**Example:**\\n\\n- **Trigger:** Guest registers at hotel.\\n- **Service:** OrderService handles the `SubmitOrder` command and publishes the `OrderSubmitted` event.\\n\\n**Structured Description:**\\n\\n```yaml\\nroles:\\n  - &gps GPS\\n  - &manager Manager\\n  - &guest Guest\\n\\nservices:\\n  - &inventory Inventory\\n  - &auth Auth\\n  - &payment Payment\\n\\npatterns:\\n  - &command Command\\n  - &view View\\n  - &automation Automation\\n  - &translation Translation\\n\\nprocess:\\n  id: hotel_notification_system\\n  name: \"Hotel Room Booking System\"\\n  types:\\n    enums:\\n      - RoomType:\\n        - \"King\"\\n        - \"Queen\"\\n        - \"Single\"\\n      - CustomerType:\\n        - VIP\\n        - Gold\\n        - Silver\\n        - Normal\\n    data_objects:\\n      - Address:\\n        - \"street: String\"\\n        - \"zipCode: String\"\\n        - \"city: String\"\\n        - \"country: String\"\\n      - Name:\\n        - \"firstName: String\"\\n        - \"lastName: String\"\\n  slices:\\n    - id: register\\n      description: Guest registers at hotel\\n      pattern: *command\\n      trigger:\\n        id: register_trigger\\n        name: Register\\n        role: *guest\\n        identity_property: \"guestID:GuestID\"\\n        additional_properties:\\n          - \"name: Name\"\\n          - \"address: Address\"\\n      command:\\n        id: register_command\\n        name: Register\\n        identity_property: \"guestID:GuestID\"\\n        additional_properties:\\n          - \"name: Name\"\\n          - \"address: Address\"\\n      event:\\n        id: registered_event\\n        name: Registered\\n        service: *auth\\n        identity_property: \"guestID:GuestID\"\\n        additional_properties:\\n          - \"name: Name\"\\n          - \"address: Address\"\\n    - id: add_room\\n      description: Manager adds room the list of available rooms\\n      pattern: *command\\n      trigger:\\n        id: add_room_trigger\\n        name: \"Add\\\\nRoom\"\\n        role: *manager\\n        identity_property: \"roomID:RoomID\"\\n        additional_properties:\\n          - \"roomNumber: Long\"\\n      command:\\n        id: add_room_command\\n        name: \"Add\\\\nRoom\"\\n        identity_property: \"roomID:RoomID\"\\n        additional_properties:\\n          - \"roomNumber: Long\"\\n      event:\\n        id: room_added_event\\n        name: \"Room\\\\nAdded\"\\n        service: *inventory\\n        identity_property: \"roomID:RoomID\"\\n        additional_properties:\\n          - \"roomNumber: Long\"          \\n```\\n\\n### 2. Pattern \"View\": Event -> View -> Trigger\\n\\n**Description:**\\nThis slice represents how an event updates one or more views, which are then used by a Trigger, such as a UI or API, to present information to a user or another system. \\nIf a view does not explicitly define properties, it inherits all properties from the events that interact/project into the view.\\n\\n**Example:**\\n\\n- **Event:** `OrderSubmitted` event occurs.\\n- **Service:** OrderViewService updates the `OrderStatusView` and `OrderSummaryView`.\\n- **Trigger:** User views the order status and summary on their dashboard.\\n\\n**Structured Description:**\\n\\n```yaml\\nroles:\\n  - &gps GPS\\n  - &manager Manager\\n  - &guest Guest\\n\\nservices:\\n  - &inventory Inventory\\n  - &auth Auth\\n  - &payment Payment\\n\\npatterns:\\n  - &command Command\\n  - &view View\\n  - &automation Automation\\n  - &translation Translation\\n\\nprocess:\\n  id: hotel_notification_system\\n  name: \"Hotel Room Booking System\"\\n  types:\\n    enums:\\n      - RoomType:\\n        - \"King\"\\n        - \"Queen\"\\n        - \"Single\"\\n      - CustomerType:\\n        - VIP\\n        - Gold\\n        - Silver\\n        - Normal\\n    data_objects:\\n      - Address:\\n        - \"street: String\"\\n        - \"zipCode: String\"\\n        - \"city: String\"\\n        - \"country: String\"\\n      - Name:\\n        - \"firstName: String\"\\n        - \"lastName: String\"\\n  slices:\\n    - id: room_availability\\n      pattern: *view\\n      event:\\n        id: room_added_event\\n        name: \"Room\\\\nAdded\"\\n        service: *inventory\\n        identity_property: \"roomID:RoomID\"\\n      view:\\n        id: room_availability_view\\n        name: \"Room\\\\nAvailability\"\\n        identity_property: \"roomID:RoomID\"\\n      trigger:\\n        id: book_room_trigger\\n        name: \"Book\\\\nRoom\"\\n        role: *guest\\n        identity_property: \"guestID:GuestID\"\\n        additional_properties:\\n          - \"roomID:RoomID\"\\n```\\n\\n### 3. Automation and Translation Pattern \\n\\nCovers both: \\n  - Automation: Event -> View -> Processor -> Command -> Event\\n    - Uses `pattern: *automation` in the YAML slice definition\\n  - Translation: External Event -> View -> Processor -> Command -> Event\\n    - Uses `pattern: *translation` in the YAML slice definition\\n\\n**Description:**\\nThis slice captures how an event triggers an automated process, which results in another command. \\nThis command includes an identity-carrying property and additional properties with names and types (similar to the Command pattern)\\nThe resulting event records these properties. If the event does not explicitly define properties, it inherits all properties from the command. \\nAdditionally, the slice can include a section for any View/ToDo List properties that may be required during the process.\\n\\n**Example:**\\n\\n- **Event:** `OrderSubmitted` event triggers an automated inventory check.\\n- **Service:** InventoryService handles the `CheckInventory` command and publishes the `InventoryChecked` event.\\n\\n**Structured Description:**\\n\\n```yaml\\nroles:\\n  - &gps GPS\\n  - &manager Manager\\n  - &guest Guest\\n\\nservices:\\n  - &inventory Inventory\\n  - &auth Auth\\n  - &payment Payment\\n\\npatterns:\\n  - &command Command\\n  - &view View\\n  - &automation Automation\\n  - &translation Translation\\n\\nprocess:\\n  id: hotel_notification_system\\n  name: \"Hotel Room Booking System\"\\n  types:\\n    enums:\\n      - RoomType:\\n        - \"King\"\\n        - \"Queen\"\\n        - \"Single\"\\n      - CustomerType:\\n        - VIP\\n        - Gold\\n        - Silver\\n        - Normal\\n    data_objects:\\n      - Address:\\n        - \"street: String\"\\n        - \"zipCode: String\"\\n        - \"city: String\"\\n        - \"country: String\"\\n      - Name:\\n        - \"firstName: String\"\\n        - \"lastName: String\"\\n  slices:\\n    - id: checkout\\n      description: Leaving the hotel triggers a checkout process\\n      pattern: *translation\\n      events: \\n        - id: guest_left_event\\n          name: \"Guest Left\\\\nHotel\"\\n          service: *inventory\\n          identity_property: \"guestID:GuestID\"\\n        - id: checked_out_event\\n          name: \"Checked\\\\nOut\" \\n          service: *inventory\\n          identity_property: \"guestID:GuestID\"\\n      view:\\n        id: guest_roster_view\\n        name: \"Guest\\\\nRoster\"\\n        identity_property: \"guestID:GuestID\"\\n      processor:\\n        id: checkout_processor\\n        name: \"Checkout\\\\nProcessor\"\\n        role: *translation\\n        identity_property: \"guestID:GuestID\"\\n      command:\\n        id: checkout_command\\n        name: \"Check\\\\nOut\"\\n        identity_property: \"guestID:GuestID\"\\n    - id: payment\\n      description: A payment process handles the transaction\\n      pattern: *automation\\n      events: \\n        - id: payment_requested_event\\n          name: \"Payment\\\\nRequested\"\\n          service: *payment\\n          identity_property: \"guestID:GuestID\"\\n          additional_properties:\\n            - \"roomID:RoomID\"\\n        - id: payment_succeeded_event\\n          name: \"Payment\\\\nSucceeded\"\\n          service: *payment\\n          identity_property: \"guestID:GuestID\"\\n          additional_properties:\\n            - \"roomID:RoomID\"\\n      view:\\n        id: paymetns_to_process_view\\n        name: \"Payments\\\\nto Process\"\\n        identity_property: \"guestID:GuestID\"\\n        additional_properties:\\n          - \"roomID:RoomID\"\\n      processor:\\n        id: payment_processor\\n        name: \"Payment\\\\nProcessor\"\\n        role: *automation\\n        identity_property: \"guestID:GuestID\"\\n        additional_properties:\\n          - \"roomID:RoomID\"\\n      command:\\n        id: process_payment_command\\n        name: \"Process\\\\nPayment\"\\n        identity_property: \"guestID:GuestID\"\\n        additional_properties:\\n          - \"roomID:RoomID\"\\n```\\n\\n# Rules\\n\\nPlease adhere to the following instructions, which are intended to guide the incrementally updating the entire process structure based on the user\\'s description of the process being event modelled, thereby ensuring that the event model accurately reflects the described process as it’s incrementally defined.\\n\\n1. **Adding Properties:**\\n   - When the user describes additional properties for commands, events, or views, include these properties in the respective slice\\'s `additional_properties` section.\\n   - If a new property is an identity-carrying property, include or replace (since there can only be a single `identity_property`) it in the `identity_property` section of the respective command, event, or view.\\n   - If a property is missing a type please resolve the most like type, such as String, Long, Int, etc.\\n\\n2. **Reordering Slices:**\\n   - If the user specifies a new order for the slices, update the `slices` structure to reflect this new order.\\n   - Ensure that each slice references the correct preceding and following slices according to the new order.\\n\\n3. **Inserting Slices:**\\n   - When the user describes a new slice to be inserted, create a new slice definition based on the provided details.\\n   - Insert the new slice into the `slices` structure at the specified position.\\n   - Update references in adjacent slices to maintain a coherent process flow.\\n\\n4. **Deleting Slices:**\\n   - If the user specifies that a slice should be deleted, remove the corresponding slice from the `slices` structure.\\n   - Ensure that the remaining slices still reference each other correctly, maintaining a coherent process flow.\\n\\n5. **Implicit Inheritance:**\\n   - If an event or view does not explicitly define certain properties, it inherits all properties from the triggering command or event.\\n   - Ensure that the inheritance is correctly applied when properties are not explicitly defined in the event or view.\\n\\n6. **Validation and Consistency:**\\n   - Continuously validate the structure to ensure that it remains consistent and non-duplicative.\\n   - Ensure that each slice clearly defines identity-carrying properties and additional properties with names and types.\\n\\n7. **User Interaction:**\\n   - Prompt the user for necessary details whenever an action (adding, reordering, inserting, deleting) is performed.\\n   - Confirm changes with the user to ensure accuracy and completeness of the event model.\\n\\nPlease, very briefly introduce the user to the process, inform them on how property types are defined, including examples such as “policyId: PolicyId” and prompt the user for information about the process and after that information about the first slice of the proces. \\nFrom there on repeatedly prompt the user for more slices or refinements. \\nEvery time the user provides feedback or input you must update the YAML document\\nIf the users requests visualisation of the process please use the Python code generator to generate a visualisation of the process according to the visualisation rules defined above.'}, template=\"{system_message}\\nHere is the user's query, which you MUST respond to:\\n{input}\\nThis is the conversation so far:\\n{chat_history}\")"
      ]
     },
     "execution_count": 12,
     "metadata": {},
     "output_type": "execute_result"
    }
   ],
   "source": [
    "from utils import init_llm_langsmith\n",
    "from langchain.memory import ConversationBufferMemory\n",
    "from langchain.prompts import PromptTemplate\n",
    "from langchain.chains import ConversationChain\n",
    "\n",
    "llm_model = init_llm_langsmith(llm_key=40, temp=0.5, langsmith_name=\"AzureTestgpt4o\")\n",
    "\n",
    "# Init short term memory\n",
    "short_term_memory = ConversationBufferMemory(memory_key=\"chat_history\",\n",
    "                                                    return_messages=False,\n",
    "                                                    ai_prefix=\"Assistant\",\n",
    "                                                    human_prefix=\"User\")\n",
    "\n",
    "prompt = {\n",
    "            \"chat_history\": {},\n",
    "            \"input\": input,\n",
    "            \"system_message\": \".\",\n",
    "        }\n",
    "\n",
    "\n",
    "\n",
    "prompt_template = \"\"\"{system_message}\n",
    "Here is the user's query, which you MUST respond to:\n",
    "{input}\n",
    "This is the conversation so far:\n",
    "{chat_history}\"\"\"\n",
    "\n",
    "prompt_template = PromptTemplate.from_template(template=prompt_template)\n",
    "\n",
    "with open('data/EMS_prompt.md', 'r', encoding='utf-8') as f:\n",
    "    EMS_prompt = f.read()\n",
    "prompt = prompt_template.partial(system_message=EMS_prompt)\n",
    "\n",
    "chain = ConversationChain(llm=llm_model,\n",
    "                        prompt=prompt,\n",
    "                        memory=short_term_memory,\n",
    "                        #output_parser=BaseLLMOutputParser(),\n",
    "                        verbose=False,)\n",
    "\n",
    "def predict(self, query, output_tag=\"response\"):\n",
    "    \"\"\"Invoke the Teaching Agent System.\"\"\"\n",
    "    print(\"\\n\\nUser Query:\\n\", query)\n",
    "    response = chain.invoke({\"input\": query})[output_tag]\n",
    "    print(\"\\n\\nResponse:\\n\", response)\n",
    "    return response\n"
   ]
  },
  {
   "cell_type": "code",
   "execution_count": 13,
   "metadata": {},
   "outputs": [
    {
     "name": "stderr",
     "output_type": "stream",
     "text": [
      "/var/folders/0j/yr_222tj0qj2b677c25v5tbc0000gn/T/ipykernel_1998/4048457113.py:1: LangChainDeprecationWarning: The class `ConversationChain` was deprecated in LangChain 0.2.7 and will be removed in 1.0. Use RunnableWithMessageHistory: https://python.langchain.com/v0.2/api_reference/core/runnables/langchain_core.runnables.history.RunnableWithMessageHistory.html instead.\n",
      "  chain = ConversationChain(llm=llm_model,\n"
     ]
    },
    {
     "data": {
      "text/plain": [
       "'Hello! It looks like you\\'d like to model a process using Event Modeling. Let\\'s start by capturing the overall process and then break it down into individual slices.\\n\\n### How Property Types Are Defined\\nWhen defining properties in the process, we use a format like `propertyName: PropertyType`. For example:\\n- `policyId: PolicyId`\\n- `roomId: RoomID`\\n- `guestID: GuestID`\\n\\nThese properties help identify and describe the data involved in each command, event, and view.\\n\\n### Let\\'s Get Started\\nFirst, can you briefly describe the overall process you want to model? For example, \"Hotel Room Booking System\" or \"Online Order Processing.\"\\n\\nOnce we have the overall process, we\\'ll move on to defining the first slice of the process.\\n\\nPlease provide the name and a brief description of the overall process you\\'d like to model.'"
      ]
     },
     "execution_count": 13,
     "metadata": {},
     "output_type": "execute_result"
    }
   ],
   "source": [
    "query = \"I believe the end of the world is an illusion.\"\n",
    "predict(query)"
   ]
  },
  {
   "cell_type": "code",
   "execution_count": 14,
   "metadata": {},
   "outputs": [
    {
     "data": {
      "text/plain": [
       "\"Great! Let's start by defining the overall process and then break it down into individual slices.\\n\\n### Overall Process\\nPlease provide the name and a brief description of the overall process you'd like to model. For example:\\n- **Name:** Weekly Food Shopping Planner\\n- **Description:** A system to plan food shopping one week ahead for busy families.\\n\\nOnce we have this, we can move on to defining the first slice of the process.\""
      ]
     },
     "execution_count": 14,
     "metadata": {},
     "output_type": "execute_result"
    }
   ],
   "source": [
    "chain.invoke({\"input\": \"I would like to build a system for planning food shopping one week ahead for busy families.\"})[\"response\"]"
   ]
  },
  {
   "cell_type": "code",
   "execution_count": 15,
   "metadata": {},
   "outputs": [
    {
     "data": {
      "text/plain": [
       "'Great! Let\\'s start with the overall process definition.\\n\\n### Overall Process\\n- **Name:** Weekly Food Shopping Planner\\n- **Description:** A system to plan food shopping one week ahead for busy families.\\n\\nNow, let\\'s move on to defining the first slice of the process. \\n\\n### First Slice\\nPlease provide the following details for the first slice:\\n1. **Description:** A brief description of the slice (e.g., \"User creates a shopping plan for the week\").\\n2. **Role:** Who is initiating this action? (e.g., User, Admin, System).\\n3. **Trigger:** What action initiates this slice? (e.g., \"Create Plan\" button, API call).\\n4. **Command:** The command that is sent (e.g., `CreateShoppingPlan`).\\n5. **Event:** The event that records the outcome (e.g., `ShoppingPlanCreated`).\\n6. **Properties:** Any additional properties for the command and event (e.g., `planID: PlanID`, `items: List<Item>`).\\n\\nPlease provide this information so we can create the first slice of the process.'"
      ]
     },
     "execution_count": 15,
     "metadata": {},
     "output_type": "execute_result"
    }
   ],
   "source": [
    "chain.invoke({\"input\": \"Please come up with some ideas and write a small event model in yaml for me.\"})[\"response\"]"
   ]
  },
  {
   "cell_type": "code",
   "execution_count": 16,
   "metadata": {},
   "outputs": [
    {
     "data": {
      "text/plain": [
       "'Great! Let\\'s start by defining the overall process and then move on to the first slice.\\n\\n### Overall Process\\n```yaml\\nprocess:\\n  id: weekly_food_shopping_planner\\n  name: \"Weekly Food Shopping Planner\"\\n  description: \"A system to plan food shopping one week ahead for busy families.\"\\n  types:\\n    enums:\\n      - MealType:\\n        - \"Breakfast\"\\n        - \"Lunch\"\\n        - \"Dinner\"\\n        - \"Snack\"\\n    data_objects:\\n      - Item:\\n        - \"name: String\"\\n        - \"quantity: Int\"\\n      - Plan:\\n        - \"planID: PlanID\"\\n        - \"weekStartDate: String\"\\n        - \"items: List<Item>\"\\n```\\n\\nNow, let\\'s move on to defining the first slice of the process.\\n\\n### First Slice\\n- **Description:** User creates a shopping plan for the week.\\n- **Role:** User\\n- **Trigger:** Create Plan button\\n- **Command:** CreateShoppingPlan\\n- **Event:** ShoppingPlanCreated\\n- **Properties:**\\n  - `planID: PlanID`\\n  - `weekStartDate: String`\\n  - `items: List<Item>`\\n\\nHere is the updated YAML with the first slice:\\n\\n```yaml\\nroles:\\n  - &user User\\n\\nservices:\\n  - &planning Planning\\n\\npatterns:\\n  - &command Command\\n  - &view View\\n  - &automation Automation\\n  - &translation Translation\\n\\nprocess:\\n  id: weekly_food_shopping_planner\\n  name: \"Weekly Food Shopping Planner\"\\n  description: \"A system to plan food shopping one week ahead for busy families.\"\\n  types:\\n    enums:\\n      - MealType:\\n        - \"Breakfast\"\\n        - \"Lunch\"\\n        - \"Dinner\"\\n        - \"Snack\"\\n    data_objects:\\n      - Item:\\n        - \"name: String\"\\n        - \"quantity: Int\"\\n      - Plan:\\n        - \"planID: PlanID\"\\n        - \"weekStartDate: String\"\\n        - \"items: List<Item>\"\\n  slices:\\n    - id: create_shopping_plan\\n      description: User creates a shopping plan for the week\\n      pattern: *command\\n      trigger:\\n        id: create_plan_trigger\\n        name: \"Create Plan\"\\n        role: *user\\n        identity_property: \"planID: PlanID\"\\n        additional_properties:\\n          - \"weekStartDate: String\"\\n          - \"items: List<Item>\"\\n      command:\\n        id: create_shopping_plan_command\\n        name: \"CreateShoppingPlan\"\\n        identity_property: \"planID: PlanID\"\\n        additional_properties:\\n          - \"weekStartDate: String\"\\n          - \"items: List<Item>\"\\n      event:\\n        id: shopping_plan_created_event\\n        name: \"ShoppingPlanCreated\"\\n        service: *planning\\n        identity_property: \"planID: PlanID\"\\n        additional_properties:\\n          - \"weekStartDate: String\"\\n          - \"items: List<Item>\"\\n```\\n\\n### Next Steps\\nPlease provide the details for the next slice or any refinements you would like to make. For the next slice, you can provide:\\n1. **Description:** A brief description of the slice.\\n2. **Role:** Who is initiating this action?\\n3. **Trigger:** What action initiates this slice?\\n4. **Command:** The command that is sent.\\n5. **Event:** The event that records the outcome.\\n6. **Properties:** Any additional properties for the command and event.\\n\\nLet me know how you\\'d like to proceed!'"
      ]
     },
     "execution_count": 16,
     "metadata": {},
     "output_type": "execute_result"
    }
   ],
   "source": [
    "chain.invoke({\"input\": \"Your suggestions sound good! Please formulate a yaml file for me.\"})[\"response\"]"
   ]
  }
 ],
 "metadata": {
  "kernelspec": {
   "display_name": "ASAsandbox",
   "language": "python",
   "name": "python3"
  },
  "language_info": {
   "codemirror_mode": {
    "name": "ipython",
    "version": 3
   },
   "file_extension": ".py",
   "mimetype": "text/x-python",
   "name": "python",
   "nbconvert_exporter": "python",
   "pygments_lexer": "ipython3",
   "version": "3.10.14"
  }
 },
 "nbformat": 4,
 "nbformat_minor": 2
}
